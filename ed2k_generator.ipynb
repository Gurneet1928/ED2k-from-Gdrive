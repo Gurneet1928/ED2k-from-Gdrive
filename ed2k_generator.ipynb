{
  "nbformat": 4,
  "nbformat_minor": 0,
  "metadata": {
    "colab": {
      "name": "ed2k generator.ipynb",
      "provenance": [],
      "mount_file_id": "1K5pbP-VkbinHyv6w1BzxiM-4arLCDJuK",
      "authorship_tag": "ABX9TyPp6xBFbbyC+nr8loodQsIy",
      "include_colab_link": true
    },
    "kernelspec": {
      "name": "python3",
      "display_name": "Python 3"
    }
  },
  "cells": [
    {
      "cell_type": "markdown",
      "metadata": {
        "id": "view-in-github",
        "colab_type": "text"
      },
      "source": [
        "<a href=\"https://colab.research.google.com/github/Gurneet1928/ED2k-from-Gdrive/blob/main/ed2k_generator.ipynb\" target=\"_parent\"><img src=\"https://colab.research.google.com/assets/colab-badge.svg\" alt=\"Open In Colab\"/></a>"
      ]
    },
    {
      "cell_type": "code",
      "metadata": {
        "id": "wCvKP-RC-DX4"
      },
      "source": [
        "MOUNT GDRIVE FIRST"
      ],
      "execution_count": null,
      "outputs": []
    },
    {
      "cell_type": "code",
      "metadata": {
        "id": "Q6apRP8oze6M"
      },
      "source": [
        "pip install anidbcli"
      ],
      "execution_count": null,
      "outputs": []
    },
    {
      "cell_type": "code",
      "metadata": {
        "id": "AOp5s6kGzyYF"
      },
      "source": [
        "pip install --upgrade anidbcli #update"
      ],
      "execution_count": null,
      "outputs": []
    },
    {
      "cell_type": "code",
      "metadata": {
        "id": "DdYz81ukz7t4"
      },
      "source": [
        "!anidbcli"
      ],
      "execution_count": null,
      "outputs": []
    },
    {
      "cell_type": "code",
      "metadata": {
        "id": "-5vOMMDT0Bpf"
      },
      "source": [
        "!anidbcli --help"
      ],
      "execution_count": null,
      "outputs": []
    },
    {
      "cell_type": "code",
      "metadata": {
        "id": "LRb97oz80sKv"
      },
      "source": [
        "!anidbcli -r ed2k  \"path/to/directory\""
      ],
      "execution_count": null,
      "outputs": []
    }
  ]
}